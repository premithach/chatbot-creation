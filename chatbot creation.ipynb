{
 "cells": [
  {
   "cell_type": "code",
   "execution_count": 1,
   "id": "6f8ab743",
   "metadata": {},
   "outputs": [
    {
     "name": "stdout",
     "output_type": "stream",
     "text": [
      "Requirement already satisfied: nltk in c:\\users\\premi\\anaconda3\\lib\\site-packages (3.8.1)\n",
      "Requirement already satisfied: joblib in c:\\users\\premi\\anaconda3\\lib\\site-packages (from nltk) (1.1.0)\n",
      "Requirement already satisfied: click in c:\\users\\premi\\anaconda3\\lib\\site-packages (from nltk) (8.0.4)\n",
      "Requirement already satisfied: regex>=2021.8.3 in c:\\users\\premi\\anaconda3\\lib\\site-packages (from nltk) (2022.3.15)\n",
      "Requirement already satisfied: tqdm in c:\\users\\premi\\anaconda3\\lib\\site-packages (from nltk) (4.64.0)\n",
      "Requirement already satisfied: colorama in c:\\users\\premi\\anaconda3\\lib\\site-packages (from click->nltk) (0.4.4)\n",
      "Note: you may need to restart the kernel to use updated packages.\n"
     ]
    }
   ],
   "source": [
    "pip install nltk"
   ]
  },
  {
   "cell_type": "code",
   "execution_count": 1,
   "id": "e385a928",
   "metadata": {},
   "outputs": [],
   "source": [
    "import nltk\n",
    "from nltk.chat.util import Chat, reflections"
   ]
  },
  {
   "cell_type": "code",
   "execution_count": 2,
   "id": "b6411116",
   "metadata": {},
   "outputs": [],
   "source": [
    "# Define patterns and responses\n",
    "pairs = [\n",
    "    (r\"hi|hello|hey\", [\"Hello!\", \"Hey there!\", \"Hi!\"]),\n",
    "    (r\"how are you?\", [\"I'm doing well, thank you!\", \"I'm good, thanks for asking.\"]),\n",
    "    (r\"what is your name?\", [\"You can call me ChatGPT.\", \"I'm ChatGPT.\"]),\n",
    "    (r\"(.*) your name?\", [\"You can call me ChatGPT.\", \"I'm ChatGPT.\"]),\n",
    "    (r\"what can you do?\", [\"I can engage in basic conversations with you.\", \n",
    "                           \"I'm here to chat with you!\"]),\n",
    "    (r\"(.*)\\b(hungry|eat|food)\\b(.*)\", [\"I'm just a bot and don't eat, but I can help you find recipes!\"]),\n",
    "    (r\"(.*)\\b(love|like|adore)\\b(.*)\", [\"Thank you! I'm here to assist you.\"]),\n",
    "    (r\"(.*)\\b(weather|forecast)\\b(.*)\", [\"I don't have access to real-time data, but you can check a weather website.\"]),\n",
    "    (r\"(.*)\\b(favorite|favourite)\\b (movie|film)\", [\"I don't watch movies, but I've heard 'The Matrix' is quite popular.\"]),\n",
    "    (r\"(.*)\\b(age|old) are you?\", [\"I'm a chatbot, so I don't age!\"]),\n",
    "    (r\"(.*)\\b(thank you|thanks)\\b\", [\"You're welcome!\", \"No problem.\", \"Happy to help!\"]),\n",
    "    (r\"bye|goodbye\", [\"Goodbye!\", \"See you later!\", \"Bye!\"]),\n",
    "    (r\"(.*)\\b(hate|dislike)\\b (you|chatbot)\", [\"I'm sorry to hear that. Is there anything I can help you with?\"]),\n",
    "    (r\"(.*)\\b(weather|temperature|forecast)\\b in (.*)\", [\"I'm not connected to the internet, but you can check the weather for \\\\3 online.\"]),\n",
    "    (r\"(.*)\\b(define|meaning of)\\b (.*)\", [\"The meaning of \\\\3 is... (Sorry, I'm still learning)\"]),\n",
    "    (r\"how (.*)\\b(you|chatbot)\\b feel(.*)\", [\"I'm just a computer program, so I don't have feelings. But I'm here to assist you!\"]),\n",
    "]\n",
    "\n",
    "# Create a chatbot\n",
    "chatbot = Chat(pairs, reflections)"
   ]
  },
  {
   "cell_type": "code",
   "execution_count": 4,
   "id": "3828e47c",
   "metadata": {},
   "outputs": [
    {
     "name": "stdout",
     "output_type": "stream",
     "text": [
      "Requirement already satisfied: textblob in c:\\users\\premi\\anaconda3\\lib\\site-packages (0.18.0.post0)Note: you may need to restart the kernel to use updated packages.\n",
      "\n",
      "Requirement already satisfied: nltk>=3.8 in c:\\users\\premi\\anaconda3\\lib\\site-packages (from textblob) (3.8.1)\n",
      "Requirement already satisfied: tqdm in c:\\users\\premi\\anaconda3\\lib\\site-packages (from nltk>=3.8->textblob) (4.64.0)\n",
      "Requirement already satisfied: click in c:\\users\\premi\\anaconda3\\lib\\site-packages (from nltk>=3.8->textblob) (8.0.4)\n",
      "Requirement already satisfied: regex>=2021.8.3 in c:\\users\\premi\\anaconda3\\lib\\site-packages (from nltk>=3.8->textblob) (2022.3.15)\n",
      "Requirement already satisfied: joblib in c:\\users\\premi\\anaconda3\\lib\\site-packages (from nltk>=3.8->textblob) (1.1.0)\n",
      "Requirement already satisfied: colorama in c:\\users\\premi\\anaconda3\\lib\\site-packages (from click->nltk>=3.8->textblob) (0.4.4)\n"
     ]
    }
   ],
   "source": [
    "pip install textblob"
   ]
  },
  {
   "cell_type": "code",
   "execution_count": 3,
   "id": "dd9ae33e",
   "metadata": {},
   "outputs": [
    {
     "name": "stdout",
     "output_type": "stream",
     "text": [
      "Welcome to ChatGPT! Feel free to chat with me. Type 'quit' to exit.\n",
      "You: Hi\n",
      "ChatGPT: Hi!\n",
      "You: how are you\n",
      "ChatGPT: I'm good, thanks for asking.\n",
      "You: what can you do\n",
      "ChatGPT: I can engage in basic conversations with you.\n",
      "You: Can you tell me the weather?\n",
      "ChatGPT: I don't have access to real-time data, but you can check a weather website.\n",
      "You: What is the meaning of life?\n",
      "ChatGPT: The meaning of \\3 is... (Sorry, I'm still learning)\n",
      "You: thank you\n",
      "ChatGPT: Happy to help!\n",
      "You: goodbye\n",
      "ChatGPT: See you later!\n",
      "You: i'm hungry\n",
      "ChatGPT: I'm just a bot and don't eat, but I can help you find recipes!\n",
      "You: how old are you\n",
      "ChatGPT: I'm a chatbot, so I don't age!\n",
      "You: what's your favorite movie\n",
      "ChatGPT: I don't watch movies, but I've heard 'The Matrix' is quite popular.\n",
      "You: i love you\n",
      "ChatGPT: Thank you! I'm here to assist you.\n",
      "You: bye\n",
      "ChatGPT: Bye!\n",
      "You: quit\n",
      "ChatGPT: Goodbye!\n"
     ]
    }
   ],
   "source": [
    "from textblob import TextBlob\n",
    "print(\"Welcome to ChatGPT! Feel free to chat with me. Type 'quit' to exit.\")\n",
    "while True:\n",
    "    user_input = input(\"You: \")\n",
    "    if user_input.lower() == 'quit':\n",
    "        print(\"ChatGPT: Goodbye!\")\n",
    "        break\n",
    "    \n",
    "    # Perform sentiment analysis on user input\n",
    "    sentiment = TextBlob(user_input).sentiment.polarity\n",
    "    if sentiment > 0.5:\n",
    "        print(\"ChatGPT: It sounds like you're feeling positive!\")\n",
    "    elif sentiment < -0.5:\n",
    "        print(\"ChatGPT: I'm sorry to hear that you're feeling negative. Is there anything I can do to help?\")\n",
    "    \n",
    "    response = chatbot.respond(user_input)\n",
    "    print(\"ChatGPT:\", response)"
   ]
  },
  {
   "cell_type": "code",
   "execution_count": null,
   "id": "f1dce751",
   "metadata": {},
   "outputs": [],
   "source": []
  }
 ],
 "metadata": {
  "kernelspec": {
   "display_name": "Python 3 (ipykernel)",
   "language": "python",
   "name": "python3"
  },
  "language_info": {
   "codemirror_mode": {
    "name": "ipython",
    "version": 3
   },
   "file_extension": ".py",
   "mimetype": "text/x-python",
   "name": "python",
   "nbconvert_exporter": "python",
   "pygments_lexer": "ipython3",
   "version": "3.9.12"
  }
 },
 "nbformat": 4,
 "nbformat_minor": 5
}
